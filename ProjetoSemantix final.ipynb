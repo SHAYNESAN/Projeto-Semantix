{
 "cells": [
  {
   "cell_type": "code",
   "execution_count": 1,
   "metadata": {},
   "outputs": [],
   "source": [
    "#Primeira parte da Questao 3 Projeto final"
   ]
  },
  {
   "cell_type": "code",
   "execution_count": 1,
   "metadata": {},
   "outputs": [],
   "source": [
    "from pyspark.sql.functions import *\n",
    "from pyspark.sql.types import *\n",
    "from pyspark.sql import functions as f\n",
    "from pyspark.sql import SQLContext\n",
    "from pyspark.sql import SparkSession\n"
   ]
  },
  {
   "cell_type": "code",
   "execution_count": 2,
   "metadata": {},
   "outputs": [],
   "source": [
    "df = spark.read.option(\"header\",True)\\\n",
    "    .option(\"inferSchema\",True)\\\n",
    "    .option(\"mode\",\"DROPMALFORMED\")\\\n",
    "    .option(\"delimiter\", \";\")\\\n",
    "    .csv(\"/user/sandro/projeto/HIST_PAINEL_COVIDBR_2021_Parte2_06jul2021.csv\")\n",
    "\n",
    "\n",
    "\n"
   ]
  },
  {
   "cell_type": "code",
   "execution_count": 26,
   "metadata": {},
   "outputs": [
    {
     "name": "stdout",
     "output_type": "stream",
     "text": [
      "root\n",
      " |-- regiao: string (nullable = true)\n",
      " |-- estado: string (nullable = true)\n",
      " |-- municipio: string (nullable = true)\n",
      " |-- coduf: integer (nullable = true)\n",
      " |-- codmun: integer (nullable = true)\n",
      " |-- codRegiaoSaude: integer (nullable = true)\n",
      " |-- nomeRegiaoSaude: string (nullable = true)\n",
      " |-- data: timestamp (nullable = true)\n",
      " |-- semanaEpi: integer (nullable = true)\n",
      " |-- populacaoTCU2019: integer (nullable = true)\n",
      " |-- casosAcumulado: integer (nullable = true)\n",
      " |-- casosNovos: integer (nullable = true)\n",
      " |-- obitosAcumulado: integer (nullable = true)\n",
      " |-- obitosNovos: integer (nullable = true)\n",
      " |-- Recuperadosnovos: integer (nullable = true)\n",
      " |-- emAcompanhamentoNovos: integer (nullable = true)\n",
      " |-- interior/metropolitana: integer (nullable = true)\n",
      "\n"
     ]
    }
   ],
   "source": [
    "\n",
    "df.printSchema()"
   ]
  },
  {
   "cell_type": "code",
   "execution_count": 3,
   "metadata": {},
   "outputs": [],
   "source": [
    "#Salvando o arquivo na tabela covid19 do hive particionada por municipio"
   ]
  },
  {
   "cell_type": "code",
   "execution_count": 5,
   "metadata": {},
   "outputs": [],
   "source": [
    "df.write.mode(\"overwrite\").partitionBy(\"municipio\").saveAsTable(\"covid19\")"
   ]
  },
  {
   "cell_type": "code",
   "execution_count": 6,
   "metadata": {},
   "outputs": [
    {
     "name": "stdout",
     "output_type": "stream",
     "text": [
      "Found 5299 items\r\n",
      "-rw-r--r--   2 root supergroup          0 2022-08-09 21:02 /user/hive/warehouse/covid19/_SUCCESS\r\n",
      "drwxr-xr-x   - root supergroup          0 2022-08-09 20:54 /user/hive/warehouse/covid19/municipio=Abadia de Goiás\r\n",
      "drwxr-xr-x   - root supergroup          0 2022-08-09 20:54 /user/hive/warehouse/covid19/municipio=Abadia dos Dourados\r\n",
      "drwxr-xr-x   - root supergroup          0 2022-08-09 20:54 /user/hive/warehouse/covid19/municipio=Abadiânia\r\n",
      "drwxr-xr-x   - root supergroup          0 2022-08-09 20:54 /user/hive/warehouse/covid19/municipio=Abaetetuba\r\n",
      "drwxr-xr-x   - root supergroup          0 2022-08-09 20:54 /user/hive/warehouse/covid19/municipio=Abaeté\r\n",
      "drwxr-xr-x   - root supergroup          0 2022-08-09 20:54 /user/hive/warehouse/covid19/municipio=Abaiara\r\n",
      "drwxr-xr-x   - root supergroup          0 2022-08-09 20:54 /user/hive/warehouse/covid19/municipio=Abaré\r\n",
      "drwxr-xr-x   - root supergroup          0 2022-08-09 20:54 /user/hive/warehouse/covid19/municipio=Abatiá\r\n",
      "drwxr-xr-x   - root supergroup          0 2022-08-09 20:54 /user/hive/warehouse/covid19/municipio=Abaíra\r\n",
      "drwxr-xr-x   - root supergroup          0 2022-08-09 20:54 /user/hive/warehouse/covid19/municipio=Abdon Batista\r\n",
      "drwxr-xr-x   - root supergroup          0 2022-08-09 20:54 /user/hive/warehouse/covid19/municipio=Abel Figueiredo\r\n",
      "drwxr-xr-x   - root supergroup          0 2022-08-09 20:54 /user/hive/warehouse/covid19/municipio=Abelardo Luz\r\n",
      "drwxr-xr-x   - root supergroup          0 2022-08-09 20:54 /user/hive/warehouse/covid19/municipio=Abre Campo\r\n",
      "drwxr-xr-x   - root supergroup          0 2022-08-09 20:54 /user/hive/warehouse/covid19/municipio=Abreu e Lima\r\n",
      "drwxr-xr-x   - root supergroup          0 2022-08-09 20:54 /user/hive/warehouse/covid19/municipio=Abreulândia\r\n",
      "drwxr-xr-x   - root supergroup          0 2022-08-09 20:54 /user/hive/warehouse/covid19/municipio=Acaiaca\r\n",
      "drwxr-xr-x   - root supergroup          0 2022-08-09 20:54 /user/hive/warehouse/covid19/municipio=Acajutiba\r\n",
      "drwxr-xr-x   - root supergroup          0 2022-08-09 20:54 /user/hive/warehouse/covid19/municipio=Acarape\r\n",
      "drwxr-xr-x   - root supergroup          0 2022-08-09 20:54 /user/hive/warehouse/covid19/municipio=Acaraú\r\n",
      "drwxr-xr-x   - root supergroup          0 2022-08-09 20:54 /user/hive/warehouse/covid19/municipio=Acari\r\n",
      "drwxr-xr-x   - root supergroup          0 2022-08-09 20:54 /user/hive/warehouse/covid19/municipio=Acará\r\n",
      "drwxr-xr-x   - root supergroup          0 2022-08-09 20:54 /user/hive/warehouse/covid19/municipio=Acauã\r\n",
      "drwxr-xr-x   - root supergroup          0 2022-08-09 20:54 /user/hive/warehouse/covid19/municipio=Aceguá\r\n",
      "drwxr-xr-x   - root supergroup          0 2022-08-09 20:54 /user/hive/warehouse/covid19/municipio=Acopiara\r\n",
      "drwxr-xr-x   - root supergroup          0 2022-08-09 20:54 /user/hive/warehouse/covid19/municipio=Acorizal\r\n",
     ]
    },
    
   "source": [
    "!hdfs dfs -ls /user/hive/warehouse/covid19/"
   ]
  },
  {
   "cell_type": "code",
   "execution_count": null,
   "metadata": {},
   "outputs": [],
   "source": [
    "#1 Parte da questao 3"
   ]
  },
  {
   "cell_type": "code",
   "execution_count": 7,
   "metadata": {},
   "outputs": [],
   "source": [
    "casos_recuperados = df.select(\"regiao\",\"Recuperadosnovos\",\"emAcompanhamentoNovos\").filter(\"regiao is Not Null\")\\\n",
    ".filter(\"Recuperadosnovos is Not Null\").filter(\"emAcompanhamentoNovos is Not Null\").filter(\"data == '2021-07-06 00:00:00'\")\\\n",
    ".groupBy(\"regiao\").agg(max(\"Recuperadosnovos\").alias(\"Casos_recuperados\"),\\\n",
    "                       max(\"emAcompanhamentoNovos\").alias(\"Em_acompanhamento\"))\n",
    "\n"
   ]
  },
  {
   "cell_type": "code",
   "execution_count": 8,
   "metadata": {},
   "outputs": [
    {
     "name": "stdout",
     "output_type": "stream",
     "text": [
      "+------+-----------------+-----------------+\n",
      "|regiao|Casos_recuperados|Em_acompanhamento|\n",
      "+------+-----------------+-----------------+\n",
      "|Brasil|         17262646|          1065477|\n",
      "+------+-----------------+-----------------+\n",
      "\n"
     ]
    }
   ],
   "source": [
    "casos_recuperados.show(10)"
   ]
  },
  {
   "cell_type": "code",
   "execution_count": 9,
   "metadata": {},
   "outputs": [],
   "source": [
    "casos_recuperados.write.mode('overwrite').saveAsTable('casos_recuperados')"
   ]
  },
  {
   "cell_type": "code",
   "execution_count": 10,
   "metadata": {},
   "outputs": [
    {
     "name": "stdout",
     "output_type": "stream",
     "text": [
      "Found 3 items\r\n",
      "-rw-r--r--   2 root supergroup          0 2022-08-09 21:08 /user/hive/warehouse/casos_recuperados/_SUCCESS\r\n",
      "-rw-r--r--   2 root supergroup        481 2022-08-09 21:08 /user/hive/warehouse/casos_recuperados/part-00000-d3c1a3a2-05c7-48d5-91ba-66343cf49c0c-c000.snappy.parquet\r\n",
      "-rw-r--r--   2 root supergroup        914 2022-08-09 21:08 /user/hive/warehouse/casos_recuperados/part-00171-d3c1a3a2-05c7-48d5-91ba-66343cf49c0c-c000.snappy.parquet\r\n"
     ]
    }
   ],
   "source": [
    "!hdfs dfs -ls /user/hive/warehouse/casos_recuperados\n"
   ]
  },
  {
   "cell_type": "code",
   "execution_count": 11,
   "metadata": {},
   "outputs": [],
   "source": [
    "#2 Parte da questao 3 "
   ]
  },
  {
   "cell_type": "code",
   "execution_count": 12,
   "metadata": {},
   "outputs": [
    {
     "name": "stdout",
     "output_type": "stream",
     "text": [
      "+------+-----------------+-----------+----------+\n",
      "|regiao|Casos_confirmados|Casos_novos|Incidencia|\n",
      "+------+-----------------+-----------+----------+\n",
      "|Brasil|         18855015|      62504|   8,972.3|\n",
      "+------+-----------------+-----------+----------+\n",
      "\n"
     ]
    }
   ],
   "source": [
    "casos_confirmados = df.select(\"regiao\",\"casosAcumulado\",\"casosNovos\",\"populacaoTCU2019\")\\\n",
    ".filter(\"regiao == 'Brasil'\").filter(\"data == '2021-07-06 00:00:00'\")\\\n",
    ".filter(\"casosAcumulado is Not Null\").filter(\"casosNovos is Not Null\").filter(\"populacaoTCU2019 is Not Null\")\\\n",
    ".groupBy(\"regiao\").agg(max(\"casosAcumulado\").alias(\"Casos_confirmados\"),\\\n",
    "                       max(\"casosNovos\").alias(\"Casos_novos\"),\\\n",
    "                       format_number(max((df[\"casosAcumulado\"]/df[\"populacaoTCU2019\"])*100000),1)\\\n",
    "                       .alias(\"Incidencia\")).orderBy(col(\"Casos_confirmados\").desc())\n",
    "casos_confirmados.show(10)"
   ]
  },
  {
   "cell_type": "code",
   "execution_count": 13,
   "metadata": {},
   "outputs": [],
   "source": [
    "casos_confirmados.write.mode(\"overwrite\").saveAsTable(\"Casos_confirmados\")"
   ]
  },
  {
   "cell_type": "code",
   "execution_count": 14,
   "metadata": {},
   "outputs": [
    {
     "name": "stdout",
     "output_type": "stream",
     "text": [
      "Found 2 items\r\n",
      "-rw-r--r--   2 root supergroup          0 2022-08-09 21:08 /user/hive/warehouse/casos_confirmados/_SUCCESS\r\n",
      "-rw-r--r--   2 root supergroup       1150 2022-08-09 21:08 /user/hive/warehouse/casos_confirmados/part-00000-121a5b72-fb4d-409f-9bf3-3abf2b5ba7f9-c000.snappy.parquet\r\n"
     ]
    }
   ],
   "source": [
    "!hdfs dfs -ls /user/hive/warehouse/casos_confirmados\n"
   ]
  },
  {
   "cell_type": "code",
   "execution_count": 15,
   "metadata": {},
   "outputs": [],
   "source": [
    "# Parte 3 da questao 3"
   ]
  },
  {
   "cell_type": "code",
   "execution_count": 16,
   "metadata": {},
   "outputs": [
    {
     "name": "stdout",
     "output_type": "stream",
     "text": [
      "+------+------------------+-----------+----------+-----------+\n",
      "|regiao|Obitos confirmados|Casos novos|letalidade|mortalidade|\n",
      "+------+------------------+-----------+----------+-----------+\n",
      "|Brasil|            526892|       1780|       2.8|      250.7|\n",
      "+------+------------------+-----------+----------+-----------+\n",
      "\n",
      "root\n",
      " |-- regiao: string (nullable = true)\n",
      " |-- Obitos confirmados: integer (nullable = true)\n",
      " |-- Casos novos: integer (nullable = true)\n",
      " |-- letalidade: float (nullable = true)\n",
      " |-- mortalidade: float (nullable = true)\n",
      "\n"
     ]
    }
   ],
   "source": [
    "casos_obitos = df.select(\"regiao\",\"obitosAcumulado\",\"obitosNovos\",\"populacaoTCU2019\",\"casosAcumulado\")\\\n",
    ".filter(\"regiao == 'Brasil'\").filter(\"data == '2021-07-06 00:00:00'\")\\\n",
    ".filter(\"obitosAcumulado is Not Null\").filter(\"obitosNovos is Not Null\").filter(\"populacaoTCU2019 is Not Null\")\\\n",
    ".groupBy(\"regiao\").agg(max(\"obitosAcumulado\").alias(\"Obitos confirmados\"),\\\n",
    "                       max(\"obitosNovos\").alias(\"Casos novos\"),\\\n",
    "                       format_number(max((df[\"obitosAcumulado\"]/df[\"casosAcumulado\"])*100),1).cast('float')\\\n",
    "                       .alias(\"letalidade\"),\\\n",
    "                       format_number(max((df[\"obitosAcumulado\"]/df[\"populacaoTCU2019\"])*100000),1).cast('float')\\\n",
    "                       .alias(\"mortalidade\")).orderBy(col(\"Obitos confirmados\").desc())\n",
    "casos_obitos.show(10)\n",
    "casos_obitos.printSchema()"
   ]
  },
  {
   "cell_type": "code",
   "execution_count": 17,
   "metadata": {},
   "outputs": [],
   "source": [
    "#salvando como topic do kafka"
   ]
  },
  {
   "cell_type": "code",
   "execution_count": 18,
   "metadata": {},
   "outputs": [],
   "source": [
    "casos_obitos.selectExpr(\"to_json(struct(*)) AS value\")\\\n",
    ".write.format(\"kafka\")\\\n",
    ".option(\"kafka.bootstrap.servers\", \"kafka:9092\")\\\n",
    ".option(\"topic\", \"casos_obitos\")\\\n",
    ".save()\n"
   ]
  },
  {
   "cell_type": "code",
   "execution_count": 19,
   "metadata": {},
   "outputs": [
    {
     "name": "stdout",
     "output_type": "stream",
     "text": [
      "+-------------------------------------------------------------------------------------------------------------+\n",
      "|value                                                                                                        |\n",
      "+-------------------------------------------------------------------------------------------------------------+\n",
      "|{\"regiao\":\"Brasil\",\"Obitos confirmados\":526892,\"Casos novos\":2029,\"letalidade\":\"2.79\"}                       |\n",
      "|{\"regiao\":\"Brasil\",\"Obitos confirmados\":518066,\"Casos novos\":4249,\"letalidade\":\"2.80\"}                       |\n",
      "|{\"regiao\":\"Brasil\",\"Obitos confirmados\":518066,\"Casos novos\":4249,\"letalidade\":\"2.80\"}                       |\n",
      "|{\"regiao\":\"Brasil\",\"Obitos confirmados\":518066,\"Casos novos\":4249,\"letalidade\":\"2.80\"}                       |\n",
      "|{\"regiao\":\"Brasil\",\"Obitos confirmados\":518066,\"Casos novos\":4249,\"letalidade\":\"2.80\"}                       |\n",
      "|{\"regiao\":\"Brasil\",\"Obitos confirmados\":518066,\"Casos novos\":4249,\"letalidade\":\"2.80\"}                       |\n",
      "|{\"regiao\":\"Brasil\",\"Obitos confirmados\":518066,\"Casos novos\":4249,\"letalidade\":\"2.80\",\"mortalidade\":\"246.53\"}|\n",
      "|{\"regiao\":\"Brasil\",\"Obitos confirmados\":518066,\"Casos novos\":4249,\"letalidade\":\"2.80\",\"mortalidade\":\"246.53\"}|\n",
      "|{\"regiao\":\"Brasil\",\"Obitos confirmados\":526892,\"Casos novos\":2029,\"letalidade\":2.79,\"mortalidade\":250.73}    |\n",
      "|{\"regiao\":\"Brasil\",\"Obitos confirmados\":526892,\"Casos novos\":1780,\"letalidade\":2.8,\"mortalidade\":250.7}      |\n",
      "|{\"regiao\":\"Brasil\",\"Obitos confirmados\":526892,\"Casos novos\":1780,\"letalidade\":2.8,\"mortalidade\":250.7}      |\n",
      "|{\"regiao\":\"Brasil\",\"Obitos confirmados\":526892,\"Casos novos\":1780,\"letalidade\":2.8,\"mortalidade\":250.7}      |\n",
      "|{\"regiao\":\"Brasil\",\"Obitos confirmados\":526892,\"Casos novos\":1780,\"letalidade\":2.8,\"mortalidade\":250.7}      |\n",
      "|{\"regiao\":\"Brasil\",\"Obitos confirmados\":526892,\"Casos novos\":1780,\"letalidade\":2.8,\"mortalidade\":250.7}      |\n",
      "|{\"regiao\":\"Brasil\",\"Obitos confirmados\":526892,\"Casos novos\":1780,\"letalidade\":2.8,\"mortalidade\":250.7}      |\n",
      "+-------------------------------------------------------------------------------------------------------------+\n",
      "\n"
     ]
    }
   ],
   "source": [
    "casos_obitos = spark.read\\\n",
    "    .format('kafka')\\\n",
    "    .option('kafka.bootstrap.servers', 'kafka:9092')\\\n",
    "    .option('subscribe','casos_obitos') \\\n",
    "    .load()\n",
    "\n",
    "topic_string = casos_obitos.select(col('value').cast('string'))\n",
    "topic_string.show(truncate = False)\n"
   ]
  },
  {
   "cell_type": "code",
   "execution_count": 20,
   "metadata": {},
   "outputs": [],
   "source": [
    "# Panorama geral do covid19"
   ]
  },
  {
   "cell_type": "code",
   "execution_count": 21,
   "metadata": {},
   "outputs": [],
   "source": [
    "panorama_geral = df.select(\"regiao\",\"estado\",\"casosAcumulado\",\"obitosAcumulado\",\"populacaoTCU2019\",\"data\")\\\n",
    ".filter(\"data == '2021-07-06 00:00:00'\")\\\n",
    ".withColumn(\"Regiao\",col(\"regiao\"))\\\n",
    ".withColumn(\"Estado\",col(\"estado\"))\\\n",
    ".withColumn(\"Casos\",col(\"casosAcumulado\"))\\\n",
    ".withColumn(\"Obitos\",col(\"obitosAcumulado\"))\\\n",
    ".withColumn(\"Incidencia_100mil\",f.round((df[\"casosAcumulado\"]/df[\"populacaoTCU2019\"])*100000,1).cast('float'))\\\n",
    ".withColumn(\"Mortalidade_100mil\",format_number((df[\"obitosAcumulado\"]/df[\"populacaoTCU2019\"])*100000,1).cast('float'))\\\n",
    ".withColumn(\"Atualizacao\",col(\"data\"))\\\n",
    ".drop(df.casosAcumulado).drop(df.data)\\\n",
    ".drop(df.obitosAcumulado)\\\n",
    ".drop(df.populacaoTCU2019)\\\n",
    ".orderBy(col(\"Casos\").desc())\n"
   ]
  },
  {
   "cell_type": "code",
   "execution_count": 22,
   "metadata": {},
   "outputs": [
    {
     "name": "stdout",
     "output_type": "stream",
     "text": [
      "+------------+------+--------+------+-----------------+------------------+-------------------+\n",
      "|      Regiao|Estado|   Casos|Obitos|Incidencia_100mil|Mortalidade_100mil|        Atualizacao|\n",
      "+------------+------+--------+------+-----------------+------------------+-------------------+\n",
      "|      Brasil|  null|18855015|526892|           8972.3|             250.7|2021-07-06 00:00:00|\n",
      "|     Sudeste|    SP| 3809222|130389|           8295.5|             284.0|2021-07-06 00:00:00|\n",
      "|     Sudeste|    MG| 1836198| 47148|           8674.1|             222.7|2021-07-06 00:00:00|\n",
      "|         Sul|    PR| 1308643| 31692|          11445.2|             277.2|2021-07-06 00:00:00|\n",
      "|         Sul|    RS| 1235914| 31867|          10863.0|             280.1|2021-07-06 00:00:00|\n",
      "|    Nordeste|    BA| 1141612| 24428|           7675.7|             164.2|2021-07-06 00:00:00|\n",
      "|         Sul|    SC| 1066484| 17146|          14885.1|             239.3|2021-07-06 00:00:00|\n",
      "|     Sudeste|    RJ|  970268| 56192|           5619.9|             325.5|2021-07-06 00:00:00|\n",
      "|    Nordeste|    CE|  894678| 22791|           9797.1|             249.6|2021-07-06 00:00:00|\n",
      "|     Sudeste|    SP|  866200| 33956|           7069.9|             277.1|2021-07-06 00:00:00|\n",
      "|Centro-Oeste|    GO|  686433| 19485|           9780.5|             277.6|2021-07-06 00:00:00|\n",
      "|    Nordeste|    PE|  561505| 17953|           5875.3|             187.9|2021-07-06 00:00:00|\n",
      "|       Norte|    PA|  557708| 15624|           6482.8|             181.6|2021-07-06 00:00:00|\n",
      "|     Sudeste|    ES|  523115| 11582|          13017.2|             288.2|2021-07-06 00:00:00|\n",
      "|Centro-Oeste|    MT|  456155| 12000|          13091.1|             344.4|2021-07-06 00:00:00|\n",
      "|Centro-Oeste|    DF|  434708|  9322|          14416.9|             309.2|2021-07-06 00:00:00|\n",
      "|Centro-Oeste|    DF|  434708|  9322|          14416.9|             309.2|2021-07-06 00:00:00|\n",
      "|       Norte|    AM|  405066| 13349|           9773.4|             322.1|2021-07-06 00:00:00|\n",
      "|    Nordeste|    PB|  402175|  8724|          10009.0|             217.1|2021-07-06 00:00:00|\n",
      "|     Sudeste|    RJ|  371512| 28948|           5529.4|             430.8|2021-07-06 00:00:00|\n",
      "|    Nordeste|    RN|  347248|  6853|           9902.0|             195.4|2021-07-06 00:00:00|\n",
      "|Centro-Oeste|    MS|  339323|  8400|          12210.3|             302.3|2021-07-06 00:00:00|\n",
      "|    Nordeste|    MA|  322052|  9190|           4551.9|             129.9|2021-07-06 00:00:00|\n",
      "|    Nordeste|    PI|  299084|  6662|           9137.3|             203.5|2021-07-06 00:00:00|\n",
      "+------------+------+--------+------+-----------------+------------------+-------------------+\n",
      "only showing top 24 rows\n",
      "\n"
     ]
    }
   ],
   "source": [
    "panorama_geral.show(24)\n"
   ]
  },
  {
   "cell_type": "code",
   "execution_count": 23,
   "metadata": {},
   "outputs": [],
   "source": [
    "panorama_geral.coalesce(1).write.format(\"csv\").option(\"header\", \"true\").mode(\"overwrite\")\\\n",
    ".save(\"/user/sandro/projeto/final\")"
   ]
  },
  {
   "cell_type": "code",
   "execution_count": 24,
   "metadata": {},
   "outputs": [
    {
     "name": "stdout",
     "output_type": "stream",
     "text": [
      "Found 2 items\r\n",
      "-rw-r--r--   2 root supergroup          0 2022-08-09 21:09 /user/sandro/projeto/final/_SUCCESS\r\n",
      "-rw-r--r--   2 root supergroup     315823 2022-08-09 21:09 /user/sandro/projeto/final/part-00000-316a27c4-d97c-4e7e-9e66-cea9ca7b405d-c000.csv\r\n"
     ]
    }
   ],
   "source": [
    "!hdfs dfs -ls /user/sandro/projeto/final\n",
    "\n"
   ]
  },
  {
   "cell_type": "code",
   "execution_count": null,
   "metadata": {},
   "outputs": [],
   "source": []
  }
 ],
 "metadata": {
  "kernelspec": {
   "display_name": "PySpark",
   "language": "python",
   "name": "pyspark"
  },
  "language_info": {
   "codemirror_mode": {
    "name": "ipython",
    "version": 3
   },
   "file_extension": ".py",
   "mimetype": "text/x-python",
   "name": "python",
   "nbconvert_exporter": "python",
   "pygments_lexer": "ipython3",
   "version": "3.6.10"
  }
 },
 "nbformat": 4,
 "nbformat_minor": 2
}
